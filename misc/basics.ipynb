{
 "cells": [
  {
   "cell_type": "markdown",
   "id": "b52e5fb2",
   "metadata": {},
   "source": [
    "# VDOT\n",
    "\n",
    "This is a **mathematical exploration** of Jack Daniels and Jimmy Gilbert's $\\mathrm{VDOT}$ concept.\n",
    "It is based on their book _Oxygen Power (1979)_,\n",
    "as well as Daniels' more recent _Daniels' Running Formula (3rd edition, 2013)_.\n",
    "\n",
    "See also:\n",
    "\n",
    "- Larry Simpson's [_The Daniels/Gilbert Formula_](http://www.simpsonassociatesinc.com/runningmath1.htm) web pages\n",
    "- [This discussion](https://www.letsrun.com/forum/flat_read.php?thread=3704747) on letsrun.com"
   ]
  },
  {
   "cell_type": "markdown",
   "id": "c759a82c",
   "metadata": {},
   "source": [
    "## Basics\n",
    "\n",
    "The relationship between oxygen consumption $\\mathrm{\\dot{V}O_2}$\n",
    "($\\mathrm{ml \\cdot kg^{-1} \\cdot min^{-1}}$)\n",
    "and running velocity $\\mathrm{v}$\n",
    "($\\mathrm{m \\cdot min^{-1}}$) is given by:\n",
    "\n",
    "$$\n",
    "\\mathrm{\\dot{V}O_2} = -4.60 + 0.182258 \\mathrm{v} + 0.000104 \\mathrm{v^2}\n",
    "$$\n",
    "\n",
    "The relationship between the fraction of $\\mathrm{\\dot{V}O_2max}$\n",
    "and the duration of a distance race $\\mathrm{t}$ ($\\mathrm{min}$) is given by:\n",
    "\n",
    "$$\n",
    "\\mathrm{F\\dot{V}O_2max} = 0.8 + 0.1894393 e^{-0.012778 \\mathrm{t}} + 0.2989558 e^{-0.1932605 \\mathrm{t}}\n",
    "$$\n",
    "\n",
    "VDOT (pseudo $\\mathrm{\\dot{V}O_2max}$) can then be easily calculated as:\n",
    "\n",
    "$$\n",
    "\\mathrm{VDOT} = \\frac{\\mathrm{\\dot{V}O_2}}{\\mathrm{F\\dot{V}O_2max}}\n",
    "$$\n",
    "\n",
    "---\n",
    "\n",
    "Below is the $\\mathrm{VDOT}$ calculation of a runner that ran a **5k race in 24 minutes and 34 seconds**."
   ]
  },
  {
   "cell_type": "code",
   "execution_count": 1,
   "id": "34255fb9",
   "metadata": {},
   "outputs": [
    {
     "data": {
      "text/plain": [
       "39.11039839652726"
      ]
     },
     "execution_count": 1,
     "metadata": {},
     "output_type": "execute_result"
    }
   ],
   "source": [
    "import math\n",
    "from datetime import timedelta\n",
    "\n",
    "# 5k race with a time of 24:34\n",
    "d = 5000\n",
    "t = timedelta(minutes=24, seconds=34).total_seconds() / 60\n",
    "v = d / t\n",
    "\n",
    "vo2 = -4.6 + 0.182258 * v + 0.000104 * v**2\n",
    "pct = 0.8 + 0.1894393 * math.exp(-0.012778 * t) + 0.2989558 * math.exp(-0.1932605 * t)\n",
    "\n",
    "vdot = vo2 / pct\n",
    "vdot"
   ]
  },
  {
   "cell_type": "markdown",
   "id": "64a24e3d",
   "metadata": {},
   "source": [
    "Looks about right from inspecting Daniels' $\\mathrm{VDOT}$ tables:\n",
    "\n",
    "| VDOT | 1,500 | Mile | 3,000 | 2 mile | 5,000 | 10K   | 15K   | Half marathon | Marathon |\n",
    "| ---- | ----- | ---- | ----- | ------ | ----- | ----- | ----- | ------------- | -------- |\n",
    "| ...  |\n",
    "| 38   | 6:54  | 7:27 | 14:41 | 15:49  | **25:12** | 52:17 | 80:33 | 1:55:55       | 3:59:35  |\n",
    "| 39   | 6:44  | 7:17 | 14:21 | 15:29  | **24:39** | 51:09 | 78:47 | 1:53:24       | 3:54:34  |\n",
    "| 40   | 6:35  | 7:07 | 14:03 | 15:08  | **24:08** | 50:03 | 77:06 | 1:50:59       | 3:49:45  |\n",
    "| ...  |"
   ]
  },
  {
   "cell_type": "markdown",
   "id": "e3a524cd",
   "metadata": {},
   "source": [
    "## Estimating other race performances\n",
    "\n",
    "The formulas presented above can be used to estimate various race times\n",
    "once a $\\mathrm{VDOT}$ value as been calculated.\n",
    "\n",
    "This can be done by finding the root of $f(d, t)$ (while setting $d$ to the desired race distance):\n",
    "\n",
    "$$\n",
    "f(d, t) = \\frac{-4.6 + 0.182258 d t^{-1} + 0.000104 d^2 t^{-2}}{0.8 + 0.1894393 e^{-0.012778 \\mathrm{t}} + 0.2989558 e^{-0.1932605 \\mathrm{t}}} - \\mathrm{VDOT}\n",
    "$$\n",
    "\n",
    "This is a root finding problem of a non-linear equation that can be solved with iterative methods."
   ]
  },
  {
   "cell_type": "code",
   "execution_count": 2,
   "id": "ef51a4f6",
   "metadata": {},
   "outputs": [],
   "source": [
    "distances = {\n",
    "    \"Marathon\": 42195,\n",
    "    \"Half marathon\": 21097.5,\n",
    "    \"15K\": 15000,\n",
    "    \"10K\": 10000,\n",
    "    \"5K\": 5000,\n",
    "}\n",
    "\n",
    "\n",
    "def format_duration(td):\n",
    "    s = int(td.total_seconds())\n",
    "    hh, mm, ss = s // 3600, s // 60 % 60, s % 60\n",
    "\n",
    "    if hh > 0:\n",
    "        return f\"{hh:02}:{mm:02}:{ss:02}\"\n",
    "\n",
    "    return f\"{mm:02}:{ss:02}\""
   ]
  },
  {
   "cell_type": "markdown",
   "id": "981deaa8",
   "metadata": {},
   "source": [
    "Using the bisection method:"
   ]
  },
  {
   "cell_type": "code",
   "execution_count": 3,
   "id": "3c4c3102",
   "metadata": {},
   "outputs": [
    {
     "name": "stdout",
     "output_type": "stream",
     "text": [
      "Marathon      : 03:53:54\n",
      "Half marathon : 01:53:02\n",
      "15K           : 01:18:32\n",
      "10K           : 50:58\n",
      "5K            : 24:34\n"
     ]
    }
   ],
   "source": [
    "from scipy import optimize\n",
    "\n",
    "\n",
    "def f(x, vdot, d):\n",
    "    return (-4.6 + 0.182258 * d * x ** (-1) + 0.000104 * d**2 * x ** (-2)) / (\n",
    "        0.8 + 0.1894393 * math.exp(-0.012778 * x) + 0.2989558 * math.exp(-0.1932605 * x)\n",
    "    ) - vdot\n",
    "\n",
    "\n",
    "for name, d in distances.items():\n",
    "    root = optimize.bisect(f, 1, 600, args=(vdot, d))\n",
    "    td = timedelta(minutes=root)\n",
    "\n",
    "    td_s = format_duration(td)\n",
    "    print(f\"{name:14}: {td_s}\")"
   ]
  },
  {
   "cell_type": "markdown",
   "id": "be642576",
   "metadata": {},
   "source": [
    "These results seem to deviate a couple of seconds from\n",
    "[\"official\" calculators](https://vdoto2.com/Calculator)\n",
    "or Daniels' own tables;\n",
    "I believe this is to be expected as **the calculator does not match\n",
    "exactly with the tables** from _Daniels' Running Formula (3rd edition, 2013)_.\n",
    "\n",
    "I assume the equations' parameters have been refined since 1979 and have\n",
    "not been made public. Either that or I fucked up somewhere. ¯\\\\_(ツ)_/¯"
   ]
  },
  {
   "cell_type": "markdown",
   "id": "fd59606b",
   "metadata": {},
   "source": [
    "## Defining training paces\n",
    "\n",
    "The calculation of training paces is not explained or talked about in _Oxygen Power_.\n",
    "However, in \"Chapter 4: Training Runs and Itensities\" of _Daniels' Running Formula_\n",
    "he sets the following intensities (based on percentages of a runner's $\\mathrm{\\dot{V}O_2max}$):\n",
    "\n",
    "- Easy: 59-74%\n",
    "- Marathon: 75-84%\n",
    "- Threshold: 83-88%\n",
    "- Interval: 95-100%\n",
    "- Repetition: 105-120%\n",
    "\n",
    "Using the above defined relationship between speed and oxygen consumption,\n",
    "the pace ranges can be calculated:\n",
    "\n",
    "$$\n",
    "\\mathrm{v} = \\frac{-0.182258 + \\sqrt{0.033218 - 0.000416 (-4.6 -\\mathrm{\\dot{V}O_2})}}{0.000208}\n",
    "$$"
   ]
  },
  {
   "cell_type": "code",
   "execution_count": 4,
   "id": "a3b8869f",
   "metadata": {},
   "outputs": [
    {
     "name": "stdout",
     "output_type": "stream",
     "text": [
      "Easy       : 05:57 ~ 07:06\n",
      "Marathon   : 05:22 ~ 05:53\n",
      "Threshold  : 05:11 ~ 05:26\n",
      "Interval   : 04:40 ~ 04:52\n",
      "Repetition : 04:02 ~ 04:29\n"
     ]
    }
   ],
   "source": [
    "paces = {\n",
    "    \"Easy\": (0.59, 0.74),\n",
    "    \"Marathon\": (0.75, 0.84),\n",
    "    \"Threshold\": (0.83, 0.88),\n",
    "    \"Interval\": (0.95, 1),\n",
    "    \"Repetition\": (1.05, 1.2),\n",
    "}\n",
    "\n",
    "\n",
    "def f(vdot, pct):\n",
    "    return (\n",
    "        -0.182258 + math.sqrt(0.033218 - 0.000416 * (-4.6 - (vdot * pct)))\n",
    "    ) / 0.000208\n",
    "\n",
    "for name, pcts in paces.items():\n",
    "    p = [f(vdot, pct) for pct in pcts]\n",
    "    p = [1000 / pace for pace in p]  # min/km instead of m/min\n",
    "    p = [format_duration(timedelta(minutes=pace)) for pace in p]  # \"m:ss\" format\n",
    "\n",
    "    slower, faster = p\n",
    "    print(f\"{name:11}: {faster} ~ {slower}\")"
   ]
  },
  {
   "cell_type": "markdown",
   "id": "75aa6987",
   "metadata": {},
   "source": [
    "These don't match exactly to the tables or calculator (which only use a range for easy pace),\n",
    "but those values are contained within the calculated ranges. I guess that's something.\n",
    "\n",
    "When making a tool or suggesting a specific pace,\n",
    "a decent estimate could be obtained by using the middle value of the\n",
    "$\\mathrm{\\dot{V}O_2}$ range (e.g. 66.5% for easy pace)."
   ]
  }
 ],
 "metadata": {
  "kernelspec": {
   "display_name": "Python 3 (ipykernel)",
   "language": "python",
   "name": "python3"
  },
  "language_info": {
   "codemirror_mode": {
    "name": "ipython",
    "version": 3
   },
   "file_extension": ".py",
   "mimetype": "text/x-python",
   "name": "python",
   "nbconvert_exporter": "python",
   "pygments_lexer": "ipython3",
   "version": "3.11.3"
  }
 },
 "nbformat": 4,
 "nbformat_minor": 5
}
